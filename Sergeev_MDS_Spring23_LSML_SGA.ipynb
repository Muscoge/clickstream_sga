{
 "cells": [
  {
   "cell_type": "markdown",
   "metadata": {},
   "source": [
    "# User routes on the site\n",
    "## Description\n",
    "**Clickstream** is a sequence of user actions on a website. It allows you to understand how users interact with the site. In this task, you need to find the most frequent custom routes.\n",
    "\n",
    "## Input data\n",
    "Input data is а table with clickstream data in file `hdfs:/data/clickstream.csv`.\n",
    "\n",
    "### Table structure\n",
    "* `user_id (int)` - Unique user identifier.\n",
    "* `session_id (int)` - Unique identifier for the user session. The user's session lasts until the identifier changes.\n",
    "* `event_type (string)` - Event type from the list:\n",
    "    * **page** - visit to the page\n",
    "    * **event** - any action on the page\n",
    "    * <b>&lt;custom&gt;</b> - string with any other type\n",
    "* `event_type (string)` - Page on the site.\n",
    "* `timestamp (int)` - Unix-timestamp of action.\n",
    "\n",
    "### Browser errors\n",
    "Errors can sometimes occur in the user's browser - after such an error appears, we can no longer trust the data of this session and all the following lines after the error or at the same time with it are considered corrupted and **should not be counted** in statistics.\n",
    "\n",
    "When an error occurs on the page, a random string containing the word **error** will be written to the `event_type` field.\n",
    "\n",
    "### Sample of user session\n",
    "<pre>\n",
    "+-------+----------+------------+----------+----------+\n",
    "|user_id|session_id|  event_type|event_page| timestamp|\n",
    "+-------+----------+------------+----------+----------+\n",
    "|    562|       507|        page|      main|1620494781|\n",
    "|    562|       507|       event|      main|1620494788|\n",
    "|    562|       507|       event|      main|1620494798|\n",
    "|    562|       507|        page|    family|1620494820|\n",
    "|    562|       507|       event|    family|1620494828|\n",
    "|    562|       507|        page|      main|1620494848|\n",
    "|    562|       507|wNaxLlerrorU|      main|1620494865|\n",
    "|    562|       507|       event|      main|1620494873|\n",
    "|    562|       507|        page|      news|1620494875|\n",
    "|    562|       507|        page|   tariffs|1620494876|\n",
    "|    562|       507|       event|   tariffs|1620494884|\n",
    "|    562|       514|        page|      main|1620728918|\n",
    "|    562|       514|       event|      main|1620729174|\n",
    "|    562|       514|        page|   archive|1620729674|\n",
    "|    562|       514|        page|     bonus|1620729797|\n",
    "|    562|       514|        page|   tariffs|1620731090|\n",
    "|    562|       514|       event|   tariffs|1620731187|\n",
    "+-------+----------+------------+----------+----------+\n",
    "</pre>\n",
    "\n",
    "#### Correct user routes for a given user:\n",
    "* **Session 507**: main-family-main\n",
    "* **Session 514**: main-archive-bonus-tariffs\n",
    "\n",
    "Route elements are ordered by the time they appear in the clickstream, from earliest to latest.\n",
    "\n",
    "The route must be accounted for completely before the end of the session or an error in the session.\n",
    "\n",
    "## Task\n",
    "You need to use the Spark SQL, Spark RDD and Spark DF interfaces to create a solution file, the lines of which contain **the 30 most frequent user routes** on the site.\n",
    "\n",
    "Each line of the file should contain the `route` and `count` values **separated by tabs**, where:\n",
    "* `route` - route on the site, consisting of pages separated by \"-\".\n",
    "* `count` - the number of user sessions in which this route was.\n",
    "\n",
    "The lines must be **ordered in descending order** of the `count` field.\n",
    "\n",
    "## Criteria\n",
    "You can get maximum of 3.5 points (final grade) for this assignment, depedning on the number of interface you manage to leverage. The criteria are as follows:\n",
    "\n",
    "* 0.5 points – Spark SQL solution with 1 query\n",
    "* 0.5 points – Spark SQL solution with <=2 queries\n",
    "* 0.5 points – Spark RDD solution\n",
    "* 0.5 points – Spark DF solution\n",
    "* 0.5 points – your solution algorithm is relatively optimized, i.e.: no O^2 or O^3 complexities; appropriate object usage; no data leaks etc. This is evaluated by staff.\n",
    "* 1 point – 1 on 1 screening session. During this session staff member can ask you questions regarding your solution logic, framework usage, questionable parts of your code etc. If your code is clean enough, the staff member can just ask you to solve a theoretical problem connected to Spark.\n"
   ]
  },
  {
   "cell_type": "code",
   "execution_count": 1,
   "metadata": {
    "tags": []
   },
   "outputs": [
    {
     "name": "stderr",
     "output_type": "stream",
     "text": [
      "Setting default log level to \"WARN\".\n",
      "To adjust logging level use sc.setLogLevel(newLevel). For SparkR, use setLogLevel(newLevel).\n",
      "2024-10-27 18:09:00,482 WARN yarn.Client: Neither spark.yarn.jars nor spark.yarn.archive is set, falling back to uploading libraries under SPARK_HOME.\n"
     ]
    }
   ],
   "source": [
    "import findspark\n",
    "findspark.init()\n",
    "\n",
    "import pyspark\n",
    "from pyspark.sql import SparkSession, Row\n",
    "\n",
    "sc = pyspark.SparkContext(appName='clickstream')\n",
    "se = SparkSession(sc)"
   ]
  },
  {
   "cell_type": "code",
   "execution_count": 2,
   "metadata": {
    "tags": []
   },
   "outputs": [],
   "source": [
    "from operator import add\n",
    "import pandas as pd\n",
    "from pyspark.sql import functions as F\n",
    "from pyspark.sql.window import Window"
   ]
  },
  {
   "cell_type": "code",
   "execution_count": 3,
   "metadata": {
    "tags": []
   },
   "outputs": [
    {
     "name": "stdout",
     "output_type": "stream",
     "text": [
      "put: `clickstream.csv': File exists\n"
     ]
    }
   ],
   "source": [
    "!hadoop fs -put clickstream.csv clickstream.csv"
   ]
  },
  {
   "cell_type": "code",
   "execution_count": 4,
   "metadata": {
    "tags": []
   },
   "outputs": [
    {
     "name": "stderr",
     "output_type": "stream",
     "text": [
      "                                                                                \r"
     ]
    },
    {
     "name": "stdout",
     "output_type": "stream",
     "text": [
      "+-------+----------+----------+----------+----------+\n",
      "|user_id|session_id|event_type|event_page| timestamp|\n",
      "+-------+----------+----------+----------+----------+\n",
      "|    562|       507|      page|      main|1695584127|\n",
      "+-------+----------+----------+----------+----------+\n",
      "only showing top 1 row\n",
      "\n"
     ]
    }
   ],
   "source": [
    "clickstream = se.read.option(\"delimiter\", \"\\t\").csv(\"clickstream.csv\", header=True, inferSchema=True)\n",
    "clickstream.registerTempTable(\"clickstream\")\n",
    "clickstream.show(1)"
   ]
  },
  {
   "cell_type": "markdown",
   "metadata": {},
   "source": [
    "## Spark SQL "
   ]
  },
  {
   "cell_type": "markdown",
   "metadata": {
    "tags": []
   },
   "source": [
    "### Process of getting the solution"
   ]
  },
  {
   "cell_type": "markdown",
   "metadata": {},
   "source": [
    "First of all detect errors"
   ]
  },
  {
   "cell_type": "code",
   "execution_count": 5,
   "metadata": {},
   "outputs": [
    {
     "name": "stderr",
     "output_type": "stream",
     "text": [
      "[Stage 3:============================================>              (6 + 2) / 8]\r"
     ]
    },
    {
     "name": "stdout",
     "output_type": "stream",
     "text": [
      "+-------+----------+---------------+\n",
      "|user_id|session_id|error_timestamp|\n",
      "+-------+----------+---------------+\n",
      "|   3705|       134|     1696280734|\n",
      "|    957|       179|     1696199592|\n",
      "|   1387|       218|     1696333010|\n",
      "|   2025|       981|     1696475245|\n",
      "|   2211|       900|     1696513086|\n",
      "|   4868|       835|     1696566211|\n",
      "|   3973|       515|     1696663564|\n",
      "|   1150|       785|     1696675298|\n",
      "|     75|       200|     1696694803|\n",
      "|    352|        68|     1696703985|\n",
      "|   3567|       733|     1696732810|\n",
      "|    854|       241|     1696954446|\n",
      "|   2165|       760|     1696364416|\n",
      "|   3546|       518|     1696433407|\n",
      "|    499|       687|     1696434083|\n",
      "+-------+----------+---------------+\n",
      "only showing top 15 rows\n",
      "\n"
     ]
    },
    {
     "name": "stderr",
     "output_type": "stream",
     "text": [
      "                                                                                \r"
     ]
    }
   ],
   "source": [
    "error_query = \"\"\"\n",
    "SELECT user_id, session_id, MIN(timestamp) as error_timestamp\n",
    "    FROM clickstream\n",
    "    WHERE event_type LIKE '%error%'\n",
    "    GROUP BY user_id, session_id\n",
    "\"\"\"\n",
    "\n",
    "se.sql(error_query).show(15)"
   ]
  },
  {
   "cell_type": "markdown",
   "metadata": {},
   "source": [
    "After that we need to filter it"
   ]
  },
  {
   "cell_type": "code",
   "execution_count": 6,
   "metadata": {
    "tags": []
   },
   "outputs": [
    {
     "name": "stderr",
     "output_type": "stream",
     "text": [
      "                                                                                \r"
     ]
    },
    {
     "name": "stdout",
     "output_type": "stream",
     "text": [
      "+-------+----------+----------+----------+------------+\n",
      "|user_id|session_id|event_page| timestamp|lagged_event|\n",
      "+-------+----------+----------+----------+------------+\n",
      "|      0|       874|      main|1696371064|       start|\n",
      "|      0|       874|    rabota|1696374894|        main|\n",
      "|      0|       874|    online|1696378229|      rabota|\n",
      "|      0|       898|      main|1697594437|       start|\n",
      "|      0|       898|      news|1697596341|        main|\n",
      "|      0|       898|   tariffs|1697598240|        news|\n",
      "|      0|       898|    rabota|1697600131|     tariffs|\n",
      "|      0|       898|     bonus|1697605450|      rabota|\n",
      "|      0|       898|   tariffs|1697611362|       bonus|\n",
      "|      0|       898|     bonus|1697612492|     tariffs|\n",
      "|      0|       898|  internet|1697614807|       bonus|\n",
      "|      0|       898|      news|1697618742|    internet|\n",
      "|      0|       898|   tariffs|1697619069|        news|\n",
      "|      0|       898|    online|1697619756|     tariffs|\n",
      "|      0|       898|   archive|1697624953|      online|\n",
      "+-------+----------+----------+----------+------------+\n",
      "only showing top 15 rows\n",
      "\n"
     ]
    }
   ],
   "source": [
    "filter_error_query = \"\"\"\n",
    "WITH ErrorTime AS (\n",
    "    SELECT user_id, session_id, MIN(timestamp) as error_timestamp\n",
    "    FROM clickstream\n",
    "    WHERE event_type LIKE '%error%'\n",
    "    GROUP BY user_id, session_id\n",
    ")\n",
    "SELECT \n",
    "    c.user_id, \n",
    "    c.session_id, \n",
    "    c.event_page, \n",
    "    c.timestamp,\n",
    "    LAG(c.event_page, 1, 'start') OVER (PARTITION BY c.user_id, c.session_id ORDER BY c.timestamp) AS lagged_event\n",
    "FROM clickstream c\n",
    "LEFT JOIN ErrorTime e \n",
    "    ON c.user_id = e.user_id \n",
    "    AND c.session_id = e.session_id\n",
    "WHERE c.event_type = 'page' \n",
    "AND (c.timestamp < e.error_timestamp OR e.error_timestamp IS NULL);\n",
    "\"\"\"\n",
    "\n",
    "se.sql(filter_error_query).show(15)"
   ]
  },
  {
   "cell_type": "markdown",
   "metadata": {},
   "source": [
    "### The solution"
   ]
  },
  {
   "cell_type": "code",
   "execution_count": 7,
   "metadata": {
    "tags": []
   },
   "outputs": [
    {
     "name": "stderr",
     "output_type": "stream",
     "text": [
      "[Stage 17:==============================================>           (4 + 1) / 5]\r"
     ]
    },
    {
     "name": "stdout",
     "output_type": "stream",
     "text": [
      "+--------------------+-----------+\n",
      "|         event_route|route_count|\n",
      "+--------------------+-----------+\n",
      "|                main|       8184|\n",
      "|        main-archive|       1113|\n",
      "|         main-rabota|       1047|\n",
      "|       main-internet|        897|\n",
      "|          main-bonus|        870|\n",
      "|           main-news|        769|\n",
      "|        main-tariffs|        677|\n",
      "|         main-online|        587|\n",
      "|          main-vklad|        518|\n",
      "| main-rabota-archive|        170|\n",
      "| main-archive-rabota|        167|\n",
      "|  main-bonus-archive|        143|\n",
      "|   main-rabota-bonus|        139|\n",
      "|   main-bonus-rabota|        135|\n",
      "|    main-news-rabota|        135|\n",
      "|main-archive-inte...|        132|\n",
      "|    main-rabota-news|        130|\n",
      "|main-internet-rabota|        129|\n",
      "|   main-archive-news|        126|\n",
      "|main-rabota-internet|        124|\n",
      "|main-internet-arc...|        123|\n",
      "|  main-archive-bonus|        117|\n",
      "| main-internet-bonus|        115|\n",
      "|main-tariffs-inte...|        114|\n",
      "|   main-news-archive|        113|\n",
      "|  main-news-internet|        109|\n",
      "|main-archive-tariffs|        104|\n",
      "|  main-internet-news|        103|\n",
      "|main-tariffs-archive|        103|\n",
      "|    main-rabota-main|         94|\n",
      "+--------------------+-----------+\n",
      "\n"
     ]
    },
    {
     "name": "stderr",
     "output_type": "stream",
     "text": [
      "                                                                                \r"
     ]
    }
   ],
   "source": [
    "routes_query = \"\"\"\n",
    "WITH ErrorTime AS (\n",
    "    SELECT \n",
    "        user_id, \n",
    "        session_id, \n",
    "        MIN(timestamp) AS error_timestamp\n",
    "    FROM clickstream\n",
    "    WHERE event_type LIKE '%error%'\n",
    "    GROUP BY user_id, session_id\n",
    "),\n",
    "FilteredActions AS (\n",
    "    SELECT \n",
    "        c.user_id, \n",
    "        c.session_id, \n",
    "        c.event_page, \n",
    "        c.timestamp,\n",
    "        LAG(c.event_page, 1, 'start') OVER (PARTITION BY c.user_id, c.session_id ORDER BY c.timestamp) AS lagged_event\n",
    "    FROM clickstream c\n",
    "    LEFT JOIN ErrorTime e \n",
    "        ON c.user_id = e.user_id \n",
    "        AND c.session_id = e.session_id\n",
    "    WHERE c.event_type = 'page' \n",
    "    AND (c.timestamp < e.error_timestamp OR e.error_timestamp IS NULL)\n",
    "),\n",
    "ConcatenatedRoutes AS (\n",
    "    SELECT \n",
    "        user_id, \n",
    "        session_id, \n",
    "        CONCAT_WS('-', COLLECT_LIST(event_page) OVER (PARTITION BY user_id, session_id ORDER BY timestamp)) AS event_route, \n",
    "        ROW_NUMBER() OVER (PARTITION BY user_id, session_id ORDER BY timestamp DESC) AS row_num\n",
    "    FROM FilteredActions\n",
    "    WHERE event_page != lagged_event OR lagged_event = 'start'\n",
    ")\n",
    "SELECT event_route, COUNT(*) AS route_count\n",
    "FROM ConcatenatedRoutes\n",
    "WHERE row_num = 1\n",
    "GROUP BY event_route\n",
    "ORDER BY route_count DESC\n",
    "LIMIT 30;\n",
    "\"\"\"\n",
    "\n",
    "top_routes_sql = se.sql(routes_query)\n",
    "top_routes_sql.show(30)"
   ]
  },
  {
   "cell_type": "code",
   "execution_count": 8,
   "metadata": {
    "tags": []
   },
   "outputs": [
    {
     "name": "stderr",
     "output_type": "stream",
     "text": [
      "                                                                                \r"
     ]
    }
   ],
   "source": [
    "top_routes_sql.toPandas().to_csv(\"top_routes_sql.csv\",sep = \"\\t\", index = False)"
   ]
  },
  {
   "cell_type": "code",
   "execution_count": 9,
   "metadata": {
    "tags": []
   },
   "outputs": [
    {
     "name": "stderr",
     "output_type": "stream",
     "text": [
      "                                                                                \r"
     ]
    }
   ],
   "source": [
    "import json\n",
    "route_dict = {row['event_route']: row['route_count'] for row in top_routes_sql.limit(10).collect()}\n",
    "\n",
    "# Write the result to a JSON file\n",
    "with open('result.json', 'w') as json_file:\n",
    "    json.dump(route_dict, json_file, indent=4)"
   ]
  },
  {
   "cell_type": "markdown",
   "metadata": {},
   "source": [
    "## Spark RDD"
   ]
  },
  {
   "cell_type": "markdown",
   "metadata": {},
   "source": [
    "### Transform to RDD"
   ]
  },
  {
   "cell_type": "code",
   "execution_count": 10,
   "metadata": {},
   "outputs": [],
   "source": [
    "clickstream_rdd = clickstream.rdd"
   ]
  },
  {
   "cell_type": "code",
   "execution_count": 11,
   "metadata": {
    "tags": []
   },
   "outputs": [
    {
     "name": "stderr",
     "output_type": "stream",
     "text": [
      "                                                                                \r"
     ]
    },
    {
     "data": {
      "text/plain": [
       "[Row(user_id=562, session_id=507, event_type='page', event_page='main', timestamp=1695584127),\n",
       " Row(user_id=562, session_id=507, event_type='event', event_page='main', timestamp=1695584134),\n",
       " Row(user_id=562, session_id=507, event_type='event', event_page='main', timestamp=1695584144),\n",
       " Row(user_id=562, session_id=507, event_type='event', event_page='main', timestamp=1695584147),\n",
       " Row(user_id=562, session_id=507, event_type='wNaxLlerrorU', event_page='main', timestamp=1695584154),\n",
       " Row(user_id=562, session_id=507, event_type='event', event_page='main', timestamp=1695584154),\n",
       " Row(user_id=562, session_id=507, event_type='event', event_page='main', timestamp=1695584154),\n",
       " Row(user_id=562, session_id=507, event_type='event', event_page='main', timestamp=1695584160),\n",
       " Row(user_id=562, session_id=507, event_type='page', event_page='rabota', timestamp=1695584166),\n",
       " Row(user_id=562, session_id=507, event_type='event', event_page='rabota', timestamp=1695584174)]"
      ]
     },
     "execution_count": 11,
     "metadata": {},
     "output_type": "execute_result"
    }
   ],
   "source": [
    "clickstream_rdd.take(10)"
   ]
  },
  {
   "cell_type": "markdown",
   "metadata": {
    "tags": []
   },
   "source": [
    "### Creating mappers "
   ]
  },
  {
   "cell_type": "code",
   "execution_count": 25,
   "metadata": {
    "tags": []
   },
   "outputs": [],
   "source": [
    "def map_events(row):\n",
    "    # Create a key from user_id and session_id\n",
    "    key = (row.user_id, row.session_id)\n",
    "    \n",
    "    # Prepare the value with timestamp and event information\n",
    "    value = (row.timestamp, [row.event_type, row.event_page, 1 if 'error' in row.event_type else -1])\n",
    "    \n",
    "    return key, value\n",
    "\n",
    "clickstream_grouped = (clickstream_rdd\n",
    "    .map(map_events)\n",
    "    .groupByKey() \n",
    "    .mapValues(list)\n",
    "    .reduceByKey(lambda a, b: a + b)\n",
    "    .mapValues(lambda records: sorted(records, key=lambda x: x[0]))\n",
    "                      )\n"
   ]
  },
  {
   "cell_type": "code",
   "execution_count": 27,
   "metadata": {
    "tags": []
   },
   "outputs": [
    {
     "data": {
      "text/plain": [
       "[((2209, 541),\n",
       "  [(1695585442, ['page', 'main', -1]),\n",
       "   (1695585480, ['event', 'main', -1]),\n",
       "   (1695585553, ['page', 'bonus', -1]),\n",
       "   (1695585571, ['event', 'bonus', -1]),\n",
       "   (1695585593, ['page', 'online', -1]),\n",
       "   (1695585610, ['event', 'online', -1]),\n",
       "   (1695585733, ['event', 'online', -1]),\n",
       "   (1695585783, ['event', 'online', -1]),\n",
       "   (1695585792, ['page', 'internet', -1]),\n",
       "   (1695585812, ['event', 'internet', -1]),\n",
       "   (1695585822, ['event', 'internet', -1]),\n",
       "   (1695585842, ['event', 'internet', -1]),\n",
       "   (1695585878, ['page', 'news', -1]),\n",
       "   (1695585918, ['event', 'news', -1]),\n",
       "   (1695585934, ['event', 'news', -1]),\n",
       "   (1695585951, ['event', 'news', -1]),\n",
       "   (1695585994, ['page', 'main', -1]),\n",
       "   (1695586015, ['event', 'main', -1])])]"
      ]
     },
     "execution_count": 27,
     "metadata": {},
     "output_type": "execute_result"
    }
   ],
   "source": [
    "clickstream_grouped.take(1)"
   ]
  },
  {
   "cell_type": "code",
   "execution_count": 28,
   "metadata": {
    "tags": []
   },
   "outputs": [],
   "source": [
    "def error_lag_mapper(x):\n",
    "    is_error = False\n",
    "    lagged_route = None\n",
    "\n",
    "    for session in x[1]:  \n",
    "        if is_error:\n",
    "            session[1][2] = 1 \n",
    "        elif session[1][2] > -1:\n",
    "            is_error = True\n",
    "            session[1][2] = 1\n",
    "\n",
    "        if lagged_route is None:\n",
    "            lagged_route = session[1][1] \n",
    "            session[1].append(None)\n",
    "        else:\n",
    "            session[1].append(lagged_route)\n",
    "            lagged_route = session[1][1]\n",
    "\n",
    "    return x"
   ]
  },
  {
   "cell_type": "code",
   "execution_count": 29,
   "metadata": {
    "tags": []
   },
   "outputs": [
    {
     "data": {
      "text/plain": [
       "[((2209, 541),\n",
       "  [(1695585442, ['page', 'main', -1, None]),\n",
       "   (1695585480, ['event', 'main', -1, 'main']),\n",
       "   (1695585553, ['page', 'bonus', -1, 'main']),\n",
       "   (1695585571, ['event', 'bonus', -1, 'bonus']),\n",
       "   (1695585593, ['page', 'online', -1, 'bonus']),\n",
       "   (1695585610, ['event', 'online', -1, 'online']),\n",
       "   (1695585733, ['event', 'online', -1, 'online']),\n",
       "   (1695585783, ['event', 'online', -1, 'online']),\n",
       "   (1695585792, ['page', 'internet', -1, 'online']),\n",
       "   (1695585812, ['event', 'internet', -1, 'internet']),\n",
       "   (1695585822, ['event', 'internet', -1, 'internet']),\n",
       "   (1695585842, ['event', 'internet', -1, 'internet']),\n",
       "   (1695585878, ['page', 'news', -1, 'internet']),\n",
       "   (1695585918, ['event', 'news', -1, 'news']),\n",
       "   (1695585934, ['event', 'news', -1, 'news']),\n",
       "   (1695585951, ['event', 'news', -1, 'news']),\n",
       "   (1695585994, ['page', 'main', -1, 'news']),\n",
       "   (1695586015, ['event', 'main', -1, 'main'])])]"
      ]
     },
     "execution_count": 29,
     "metadata": {},
     "output_type": "execute_result"
    }
   ],
   "source": [
    "clickstream_grouped.map(error_lag_mapper).take(1)"
   ]
  },
  {
   "cell_type": "code",
   "execution_count": 30,
   "metadata": {
    "tags": []
   },
   "outputs": [],
   "source": [
    "def demapper(x):\n",
    "    out = []\n",
    "    for elem in x[1]:\n",
    "        out.append((x[0], elem))\n",
    "    return out\n"
   ]
  },
  {
   "cell_type": "code",
   "execution_count": 31,
   "metadata": {
    "tags": []
   },
   "outputs": [
    {
     "data": {
      "text/plain": [
       "[[((1974, 700), (1696091444, ['page', 'main', -1, None])),\n",
       "  ((1974, 700), (1696091654, ['event', 'main', -1, 'main'])),\n",
       "  ((1974, 700), (1696091785, ['page', 'online', -1, 'main'])),\n",
       "  ((1974, 700), (1696092968, ['page', 'main', -1, 'online'])),\n",
       "  ((1974, 700), (1696093073, ['event', 'main', -1, 'main'])),\n",
       "  ((1974, 700), (1696093508, ['page', 'online', -1, 'main'])),\n",
       "  ((1974, 700), (1696093548, ['page', 'rabota', -1, 'online'])),\n",
       "  ((1974, 700), (1696093620, ['page', 'bonus', -1, 'rabota'])),\n",
       "  ((1974, 700), (1696093655, ['event', 'bonus', -1, 'bonus'])),\n",
       "  ((1974, 700), (1696093851, ['event', 'bonus', -1, 'bonus'])),\n",
       "  ((1974, 700), (1696093918, ['page', 'archive', -1, 'bonus'])),\n",
       "  ((1974, 700), (1696093967, ['event', 'archive', -1, 'archive'])),\n",
       "  ((1974, 700), (1696094104, ['page', 'tariffs', -1, 'archive'])),\n",
       "  ((1974, 700), (1696094159, ['page', 'bonus', -1, 'tariffs'])),\n",
       "  ((1974, 700), (1696094341, ['event', 'bonus', -1, 'bonus'])),\n",
       "  ((1974, 700), (1696094925, ['page', 'vklad', -1, 'bonus'])),\n",
       "  ((1974, 700), (1696095152, ['event', 'vklad', -1, 'vklad'])),\n",
       "  ((1974, 700), (1696095430, ['event', 'vklad', -1, 'vklad'])),\n",
       "  ((1974, 700), (1696096365, ['page', 'news', -1, 'vklad'])),\n",
       "  ((1974, 700), (1696096405, ['event', 'news', -1, 'news'])),\n",
       "  ((1974, 700), (1696267341, ['page', 'main', -1, 'news'])),\n",
       "  ((1974, 700), (1696267408, ['event', 'main', -1, 'main'])),\n",
       "  ((1974, 700), (1696267991, ['page', 'bonus', -1, 'main'])),\n",
       "  ((1974, 700), (1696268484, ['page', 'online', -1, 'bonus'])),\n",
       "  ((1974, 700), (1696268499, ['page', 'rabota', -1, 'online'])),\n",
       "  ((1974, 700), (1696269064, ['event', 'rabota', -1, 'rabota'])),\n",
       "  ((1974, 700), (1696270284, ['event', 'rabota', -1, 'rabota'])),\n",
       "  ((1974, 700), (1696270671, ['page', 'archive', -1, 'rabota'])),\n",
       "  ((1974, 700), (1696270827, ['event', 'archive', -1, 'archive'])),\n",
       "  ((1974, 700), (1696271112, ['event', 'archive', -1, 'archive'])),\n",
       "  ((1974, 700), (1696271830, ['event', 'archive', -1, 'archive'])),\n",
       "  ((1974, 700), (1696271959, ['page', 'tariffs', -1, 'archive'])),\n",
       "  ((1974, 700), (1696272019, ['event', 'tariffs', -1, 'tariffs'])),\n",
       "  ((1974, 700), (1696272428, ['event', 'tariffs', -1, 'tariffs'])),\n",
       "  ((1974, 700), (1696272595, ['event', 'tariffs', -1, 'tariffs'])),\n",
       "  ((1974, 700), (1696272766, ['page', 'bonus', -1, 'tariffs'])),\n",
       "  ((1974, 700), (1696273019, ['event', 'bonus', -1, 'bonus'])),\n",
       "  ((1974, 700), (1696273021, ['event', 'bonus', -1, 'bonus'])),\n",
       "  ((1974, 700), (1696274035, ['event', 'bonus', -1, 'bonus'])),\n",
       "  ((1974, 700), (1696274108, ['event', 'bonus', -1, 'bonus'])),\n",
       "  ((1974, 700), (1696274751, ['page', 'rabota', -1, 'bonus'])),\n",
       "  ((1974, 700), (1696275058, ['event', 'rabota', -1, 'rabota'])),\n",
       "  ((1974, 700), (1696276067, ['page', 'internet', -1, 'rabota'])),\n",
       "  ((1974, 700), (1696277135, ['event', 'internet', -1, 'internet'])),\n",
       "  ((1974, 700), (1696277499, ['page', 'vklad', -1, 'internet'])),\n",
       "  ((1974, 700), (1696277896, ['page', 'archive', -1, 'vklad'])),\n",
       "  ((1974, 700), (1696278333, ['event', 'archive', -1, 'archive'])),\n",
       "  ((1974, 700), (1696278697, ['event', 'archive', -1, 'archive'])),\n",
       "  ((1974, 700), (1696279104, ['event', 'archive', -1, 'archive'])),\n",
       "  ((1974, 700), (1696280120, ['page', 'rabota', -1, 'archive']))]]"
      ]
     },
     "execution_count": 31,
     "metadata": {},
     "output_type": "execute_result"
    }
   ],
   "source": [
    "clickstream_grouped.map(error_lag_mapper).map(demapper).take(1)"
   ]
  },
  {
   "cell_type": "code",
   "execution_count": 32,
   "metadata": {
    "tags": []
   },
   "outputs": [],
   "source": [
    "def get_route(x):\n",
    "    routes = []\n",
    "    for event in x[1]:\n",
    "        routes.append(event[1][1])\n",
    "    \n",
    "    return [x[0], \"-\".join(routes)]\n"
   ]
  },
  {
   "cell_type": "code",
   "execution_count": 33,
   "metadata": {
    "tags": []
   },
   "outputs": [
    {
     "data": {
      "text/plain": [
       "[[(1974, 700),\n",
       "  'main-main-online-main-main-online-rabota-bonus-bonus-bonus-archive-archive-tariffs-bonus-bonus-vklad-vklad-vklad-news-news-main-main-bonus-online-rabota-rabota-rabota-archive-archive-archive-archive-tariffs-tariffs-tariffs-tariffs-bonus-bonus-bonus-bonus-bonus-rabota-rabota-internet-internet-vklad-archive-archive-archive-archive-rabota'],\n",
       " [(2325, 433),\n",
       "  'main-main-archive-archive-archive-archive-archive-archive-archive-archive-rabota-rabota-rabota-main-main-main-main-main-internet-internet-internet-vklad-vklad-vklad'],\n",
       " [(3496, 486),\n",
       "  'main-bonus-bonus-internet-internet-internet-internet-archive-archive-archive-archive-archive-archive-archive-archive-bonus-bonus-tariffs-tariffs-rabota-rabota-rabota-rabota-rabota-news-archive']]"
      ]
     },
     "execution_count": 33,
     "metadata": {},
     "output_type": "execute_result"
    }
   ],
   "source": [
    "clickstream_grouped.map(error_lag_mapper).map(get_route).take(3)"
   ]
  },
  {
   "cell_type": "markdown",
   "metadata": {
    "tags": []
   },
   "source": [
    "### Solution"
   ]
  },
  {
   "cell_type": "code",
   "execution_count": 39,
   "metadata": {
    "tags": []
   },
   "outputs": [
    {
     "name": "stderr",
     "output_type": "stream",
     "text": [
      "                                                                                \r"
     ]
    }
   ],
   "source": [
    "clickstream_rdd_result = (clickstream_grouped\n",
    "                            .map(error_lag_mapper)\n",
    "                            .flatMap(demapper)\n",
    "                            .filter(lambda x: x[1][1][2] == -1 and x[1][1][1] != x[1][1][3])\n",
    "                            .groupByKey()\n",
    "                            .map(lambda x: [x[0], list(x[1])])\n",
    "                            .map(get_route)\n",
    "                            .flatMap(lambda x: [(x[1], 1)])\n",
    "                            .groupByKey()\n",
    "                            .map(lambda x: (x[0], len(x[1])))\n",
    "                            .sortBy(lambda x: -x[1])\n",
    "                            .take(30)\n",
    "                         )\n"
   ]
  },
  {
   "cell_type": "code",
   "execution_count": 40,
   "metadata": {
    "tags": []
   },
   "outputs": [
    {
     "data": {
      "text/plain": [
       "[('main', 8185),\n",
       " ('main-archive', 1113),\n",
       " ('main-rabota', 1047),\n",
       " ('main-internet', 897),\n",
       " ('main-bonus', 870),\n",
       " ('main-news', 769),\n",
       " ('main-tariffs', 677),\n",
       " ('main-online', 587),\n",
       " ('main-vklad', 518),\n",
       " ('main-rabota-archive', 170),\n",
       " ('main-archive-rabota', 167),\n",
       " ('main-bonus-archive', 143),\n",
       " ('main-rabota-bonus', 139),\n",
       " ('main-news-rabota', 135),\n",
       " ('main-bonus-rabota', 135),\n",
       " ('main-archive-internet', 132),\n",
       " ('main-rabota-news', 130),\n",
       " ('main-internet-rabota', 129),\n",
       " ('main-archive-news', 126),\n",
       " ('main-rabota-internet', 124),\n",
       " ('main-internet-archive', 123),\n",
       " ('main-archive-bonus', 117),\n",
       " ('main-internet-bonus', 115),\n",
       " ('main-news-archive', 113),\n",
       " ('main-tariffs-internet', 113),\n",
       " ('main-news-internet', 109),\n",
       " ('main-archive-tariffs', 104),\n",
       " ('main-tariffs-archive', 103),\n",
       " ('main-internet-news', 103),\n",
       " ('main-rabota-main', 94)]"
      ]
     },
     "execution_count": 40,
     "metadata": {},
     "output_type": "execute_result"
    }
   ],
   "source": [
    "clickstream_rdd_result"
   ]
  },
  {
   "cell_type": "code",
   "execution_count": 41,
   "metadata": {
    "tags": []
   },
   "outputs": [],
   "source": [
    "pd.DataFrame(clickstream_rdd_result, columns=['event_route', 'route_count']).to_csv(\"top_routes_rdd.csv\",sep = \"\\t\", index = False)"
   ]
  },
  {
   "cell_type": "markdown",
   "metadata": {},
   "source": [
    "## Spark DF"
   ]
  },
  {
   "cell_type": "code",
   "execution_count": null,
   "metadata": {
    "tags": []
   },
   "outputs": [],
   "source": [
    "window_spec = Window.partitionBy(\"user_id\", \"session_id\").orderBy(\"timestamp\")\n",
    "\n",
    "top_routes_df = (clickstream\n",
    "                 ## join error timestamps\n",
    "                   .join(\n",
    "                       clickstream\n",
    "                       .filter(clickstream.event_type.contains(\"error\"))\n",
    "                       .groupBy(\"user_id\", \"session_id\")\n",
    "                       .agg(F.min(\"timestamp\").alias(\"error_timestamp\")),\n",
    "                       on=[\"user_id\", \"session_id\"],\n",
    "                       how=\"left\"\n",
    "                   )\n",
    "                 ## filter errors\n",
    "                   .filter(\n",
    "                       (clickstream.event_type == 'page') &\n",
    "                       ((clickstream.timestamp < F.col(\"error_timestamp\")) | F.col(\"error_timestamp\").isNull())\n",
    "                   )\n",
    "                 ## create lagged event column\n",
    "                   .select(\n",
    "                       clickstream.user_id, clickstream.session_id, \n",
    "                       clickstream.event_page, clickstream.timestamp,\n",
    "                       F.lag(clickstream.event_page, 1, 'start').over(window_spec).alias('lagged_event')\n",
    "                   )\n",
    "                   .filter(\n",
    "                       (F.col(\"event_page\") != F.col(\"lagged_event\")) | (F.col(\"lagged_event\") == 'start')\n",
    "                   )\n",
    "                 ## create routes\n",
    "                   .withColumn(\"event_route\", \n",
    "                               F.concat_ws('-',\n",
    "                                            F.collect_list(\"event_page\").over(window_spec)))\n",
    "                   .withColumn(\"row_num\", \n",
    "                               F.row_number().over(window_spec.orderBy(F.desc(\"timestamp\"))))\n",
    "                 ## count routes\n",
    "                   .filter(F.col(\"row_num\") == 1)\n",
    "                   .groupBy(\"event_route\")\n",
    "                   .agg(F.count(\"*\").alias(\"route_count\"))\n",
    "                   .orderBy(F.desc(\"route_count\"))\n",
    "                   .limit(30))"
   ]
  },
  {
   "cell_type": "code",
   "execution_count": null,
   "metadata": {
    "tags": []
   },
   "outputs": [],
   "source": [
    "top_routes_df.show(30)"
   ]
  },
  {
   "cell_type": "code",
   "execution_count": null,
   "metadata": {
    "tags": []
   },
   "outputs": [],
   "source": [
    "top_routes_df.toPandas().to_csv(\"top_routes_df.csv\",sep = \"\\t\", index = False)"
   ]
  }
 ],
 "metadata": {
  "coursera": {
   "schema_names": [
    "week-4-spark-homework"
   ]
  },
  "kernelspec": {
   "display_name": "Python 3 (ipykernel)",
   "language": "python",
   "name": "python3"
  },
  "language_info": {
   "codemirror_mode": {
    "name": "ipython",
    "version": 3
   },
   "file_extension": ".py",
   "mimetype": "text/x-python",
   "name": "python",
   "nbconvert_exporter": "python",
   "pygments_lexer": "ipython3",
   "version": "3.10.9"
  },
  "vscode": {
   "interpreter": {
    "hash": "31f2aee4e71d21fbe5cf8b01ff0e069b9275f58929596ceb00d14d90e3e16cd6"
   }
  }
 },
 "nbformat": 4,
 "nbformat_minor": 4
}
